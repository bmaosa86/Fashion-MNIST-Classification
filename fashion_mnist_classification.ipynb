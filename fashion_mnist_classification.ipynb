{
 "cells": [
  {
   "cell_type": "code",
   "execution_count": 1,
   "id": "8e439076-6398-4f9e-bbab-ddaf213ebda0",
   "metadata": {},
   "outputs": [],
   "source": [
    "# Import necessary libraries\n",
    "import numpy as np\n",
    "import logging\n",
    "from keras.datasets import fashion_mnist\n",
    "from keras.models import Sequential\n",
    "from keras.layers import Conv2D, MaxPooling2D, Flatten, Dense, InputLayer\n",
    "from keras.utils import to_categorical\n",
    "import matplotlib.pyplot as plt\n",
    "from typing import Tuple\n",
    "\n",
    "# Configure logging\n",
    "logging.basicConfig(level=logging.INFO)"
   ]
  },
  {
   "cell_type": "code",
   "execution_count": 2,
   "id": "9bfb9c65-b26f-4dbf-9acd-be650652601e",
   "metadata": {},
   "outputs": [],
   "source": [
    "# Define constants\n",
    "IMAGE_HEIGHT = 28\n",
    "IMAGE_WIDTH = 28\n",
    "NUM_CLASSES = 10\n",
    "EPOCHS = 5\n",
    "BATCH_SIZE = 64"
   ]
  },
  {
   "cell_type": "code",
   "execution_count": 3,
   "id": "bfbb2af6-cae3-4c64-ac9a-58ddc72602b6",
   "metadata": {},
   "outputs": [],
   "source": [
    "# Load and preprocess data\n",
    "def load_and_preprocess_data() -> Tuple[np.ndarray, np.ndarray, np.ndarray, np.ndarray]:\n",
    "    \"\"\"\n",
    "    Load and preprocess the Fashion MNIST dataset.\n",
    "\n",
    "    Returns:\n",
    "        Tuple containing the training and test datasets: (X_train, y_train, X_test, y_test).\n",
    "    \"\"\"\n",
    "    try:\n",
    "        (X_train, y_train), (X_test, y_test) = fashion_mnist.load_data()\n",
    "\n",
    "        # Reshape data to fit the model (28x28 with 1 channel for grayscale)\n",
    "        X_train = X_train.reshape(X_train.shape[0], IMAGE_HEIGHT, IMAGE_WIDTH, 1)\n",
    "        X_test = X_test.reshape(X_test.shape[0], IMAGE_HEIGHT, IMAGE_WIDTH, 1)\n",
    "\n",
    "        # Normalize pixel values from 0-255 to 0-1\n",
    "        X_train, X_test = X_train / 255.0, X_test / 255.0\n",
    "\n",
    "        # Convert labels to categorical (one-hot encoding)\n",
    "        y_train = to_categorical(y_train, NUM_CLASSES)\n",
    "        y_test = to_categorical(y_test, NUM_CLASSES)\n",
    "\n",
    "        return X_train, y_train, X_test, y_test\n",
    "\n",
    "    except Exception as e:\n",
    "        logging.error(f\"Error loading or preprocessing data: {e}\")\n",
    "        return None, None, None, None\n"
   ]
  },
  {
   "cell_type": "code",
   "execution_count": 4,
   "id": "a4797fc7-6787-409b-8f85-852e86bb970a",
   "metadata": {},
   "outputs": [],
   "source": [
    "# Build the CNN model\n",
    "def build_model() -> Sequential:\n",
    "    \"\"\"\n",
    "    Build and compile the CNN model.\n",
    "\n",
    "    Returns:\n",
    "        A compiled Sequential model.\n",
    "    \"\"\"\n",
    "    model = Sequential()\n",
    "\n",
    "    # Add Input layer and Conv2D layers\n",
    "    model.add(InputLayer(shape=(IMAGE_HEIGHT, IMAGE_WIDTH, 1)))  # Input layer to define the shape\n",
    "    model.add(Conv2D(32, kernel_size=(3, 3), activation='relu'))  # First Conv2D layer\n",
    "    model.add(MaxPooling2D(pool_size=(2, 2)))  # First MaxPooling layer\n",
    "    model.add(Conv2D(64, kernel_size=(3, 3), activation='relu'))  # Second Conv2D layer\n",
    "    model.add(MaxPooling2D(pool_size=(2, 2)))  # Second MaxPooling layer\n",
    "    model.add(Flatten())  # Flatten the data before passing to dense layers\n",
    "    model.add(Dense(128, activation='relu'))  # Fully connected layer with 128 units\n",
    "    model.add(Dense(NUM_CLASSES, activation='softmax'))  # Output layer\n",
    "\n",
    "    # Compile the model\n",
    "    model.compile(optimizer='adam', loss='categorical_crossentropy', metrics=['accuracy'])\n",
    "    return model\n"
   ]
  },
  {
   "cell_type": "code",
   "execution_count": 5,
   "id": "c3791668-5ed9-4f79-9055-eacc7050f092",
   "metadata": {},
   "outputs": [],
   "source": [
    "# Train the model\n",
    "def train_model(model: Sequential, X_train: np.ndarray, y_train: np.ndarray) -> None:\n",
    "    \"\"\"\n",
    "    Train the CNN model.\n",
    "\n",
    "    Args:\n",
    "        model: A compiled CNN model.\n",
    "        X_train: Training data.\n",
    "        y_train: Training labels.\n",
    "    \"\"\"\n",
    "    try:\n",
    "        model.fit(X_train, y_train, epochs=EPOCHS, batch_size=BATCH_SIZE, validation_split=0.2)\n",
    "        logging.info(\"Model training completed.\")\n",
    "    except Exception as e:\n",
    "        logging.error(f\"Error during model training: {e}\")\n"
   ]
  },
  {
   "cell_type": "code",
   "execution_count": 6,
   "id": "fdf78031-716c-4199-9b0c-46e57a8b45ea",
   "metadata": {},
   "outputs": [],
   "source": [
    "# Evaluate the model\n",
    "def evaluate_model(model: Sequential, X_test: np.ndarray, y_test: np.ndarray) -> None:\n",
    "    \"\"\"\n",
    "    Evaluate the CNN model on test data.\n",
    "\n",
    "    Args:\n",
    "        model: A trained CNN model.\n",
    "        X_test: Test data.\n",
    "        y_test: Test labels.\n",
    "    \"\"\"\n",
    "    try:\n",
    "        test_loss, test_acc = model.evaluate(X_test, y_test)\n",
    "        logging.info(f'Test accuracy: {test_acc}')\n",
    "    except Exception as e:\n",
    "        logging.error(f\"Error during model evaluation: {e}\")\n"
   ]
  },
  {
   "cell_type": "code",
   "execution_count": 7,
   "id": "9ac29081-4bb5-47d9-8085-0d201e3cfc5d",
   "metadata": {},
   "outputs": [],
   "source": [
    "# Make predictions and visualize results\n",
    "def make_predictions(model: Sequential, X_test: np.ndarray, num_images: int = 2) -> None:\n",
    "    \"\"\"\n",
    "    Make predictions for a specified number of test images and visualize them.\n",
    "\n",
    "    Args:\n",
    "        model: A trained CNN model.\n",
    "        X_test: Test data.\n",
    "        num_images: Number of images to predict and visualize.\n",
    "    \"\"\"\n",
    "    try:\n",
    "        predictions = model.predict(X_test[:num_images])\n",
    "\n",
    "        for i in range(num_images):\n",
    "            plt.imshow(X_test[i].reshape(IMAGE_HEIGHT, IMAGE_WIDTH), cmap='gray')\n",
    "            plt.title(f\"Predicted: {np.argmax(predictions[i])}\")\n",
    "            plt.axis('off')  # Hide axes\n",
    "            plt.show()\n",
    "    except Exception as e:\n",
    "        logging.error(f\"Error during prediction visualization: {e}\")\n"
   ]
  },
  {
   "cell_type": "code",
   "execution_count": 8,
   "id": "7f8351b2-012a-4496-a70e-82bf213a7687",
   "metadata": {},
   "outputs": [
    {
     "name": "stdout",
     "output_type": "stream",
     "text": [
      "Epoch 1/5\n",
      "\u001b[1m750/750\u001b[0m \u001b[32m━━━━━━━━━━━━━━━━━━━━\u001b[0m\u001b[37m\u001b[0m \u001b[1m13s\u001b[0m 14ms/step - accuracy: 0.7419 - loss: 0.7276 - val_accuracy: 0.8675 - val_loss: 0.3706\n",
      "Epoch 2/5\n",
      "\u001b[1m750/750\u001b[0m \u001b[32m━━━━━━━━━━━━━━━━━━━━\u001b[0m\u001b[37m\u001b[0m \u001b[1m10s\u001b[0m 13ms/step - accuracy: 0.8710 - loss: 0.3510 - val_accuracy: 0.8860 - val_loss: 0.3167\n",
      "Epoch 3/5\n",
      "\u001b[1m750/750\u001b[0m \u001b[32m━━━━━━━━━━━━━━━━━━━━\u001b[0m\u001b[37m\u001b[0m \u001b[1m10s\u001b[0m 14ms/step - accuracy: 0.8915 - loss: 0.2970 - val_accuracy: 0.8951 - val_loss: 0.2896\n",
      "Epoch 4/5\n",
      "\u001b[1m750/750\u001b[0m \u001b[32m━━━━━━━━━━━━━━━━━━━━\u001b[0m\u001b[37m\u001b[0m \u001b[1m11s\u001b[0m 14ms/step - accuracy: 0.9027 - loss: 0.2663 - val_accuracy: 0.9033 - val_loss: 0.2717\n",
      "Epoch 5/5\n",
      "\u001b[1m750/750\u001b[0m \u001b[32m━━━━━━━━━━━━━━━━━━━━\u001b[0m\u001b[37m\u001b[0m \u001b[1m12s\u001b[0m 15ms/step - accuracy: 0.9143 - loss: 0.2328 - val_accuracy: 0.9053 - val_loss: 0.2606\n"
     ]
    },
    {
     "name": "stderr",
     "output_type": "stream",
     "text": [
      "INFO:root:Model training completed.\n"
     ]
    },
    {
     "name": "stdout",
     "output_type": "stream",
     "text": [
      "\u001b[1m313/313\u001b[0m \u001b[32m━━━━━━━━━━━━━━━━━━━━\u001b[0m\u001b[37m\u001b[0m \u001b[1m1s\u001b[0m 4ms/step - accuracy: 0.8985 - loss: 0.2836\n"
     ]
    },
    {
     "name": "stderr",
     "output_type": "stream",
     "text": [
      "INFO:root:Test accuracy: 0.8985000252723694\n"
     ]
    },
    {
     "name": "stdout",
     "output_type": "stream",
     "text": [
      "\u001b[1m1/1\u001b[0m \u001b[32m━━━━━━━━━━━━━━━━━━━━\u001b[0m\u001b[37m\u001b[0m \u001b[1m0s\u001b[0m 168ms/step\n"
     ]
    },
    {
     "data": {
      "image/png": "[encoded data removed]",
      "text/plain": [
       "<Figure size 640x480 with 1 Axes>"
      ]
     },
     "metadata": {},
     "output_type": "display_data"
    },
    {
     "data": {
      "image/png": "[encoded data removed]",
      "text/plain": [
       "<Figure size 640x480 with 1 Axes>"
      ]
     },
     "metadata": {},
     "output_type": "display_data"
    }
   ],
   "source": [
    "# Main execution\n",
    "if __name__ == \"__main__\":\n",
    "    X_train, y_train, X_test, y_test = load_and_preprocess_data()\n",
    "\n",
    "    if X_train is not None:\n",
    "        model = build_model()\n",
    "        train_model(model, X_train, y_train)\n",
    "        evaluate_model(model, X_test, y_test)\n",
    "        make_predictions(model, X_test)\n"
   ]
  }
 ],
 "metadata": {
  "kernelspec": {
   "display_name": "Python 3 (ipykernel)",
   "language": "python",
   "name": "python3"
  },
  "language_info": {
   "codemirror_mode": {
    "name": "ipython",
    "version": 3
   },
   "file_extension": ".py",
   "mimetype": "text/x-python",
   "name": "python",
   "nbconvert_exporter": "python",
   "pygments_lexer": "ipython3",
   "version": "3.12.5"
  }
 },
 "nbformat": 4,
 "nbformat_minor": 5
}
